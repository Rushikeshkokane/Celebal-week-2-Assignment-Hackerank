{
  "nbformat": 4,
  "nbformat_minor": 0,
  "metadata": {
    "colab": {
      "name": "Celebal week 2 task.ipynb",
      "provenance": [],
      "collapsed_sections": []
    },
    "kernelspec": {
      "name": "python3",
      "display_name": "Python 3"
    },
    "language_info": {
      "name": "python"
    }
  },
  "cells": [
    {
      "cell_type": "markdown",
      "source": [
        "**Mathematical operators In python**"
      ],
      "metadata": {
        "id": "jQWIqWj-Hcfb"
      }
    },
    {
      "cell_type": "code",
      "execution_count": null,
      "metadata": {
        "colab": {
          "base_uri": "https://localhost:8080/"
        },
        "id": "wPgGYj-QHW89",
        "outputId": "47779b6c-735a-4ec6-a3bf-4681ba81917d"
      },
      "outputs": [
        {
          "output_type": "stream",
          "name": "stdout",
          "text": [
            "a + b = 10\n",
            "a - b = 6\n",
            "a * b = 16\n",
            "a / b = 4.0\n",
            "a // b = 4\n",
            "a ** b = 64\n"
          ]
        }
      ],
      "source": [
        "a = 8\n",
        "b = 2\n",
        "\n",
        "print('a + b =',a+b) #addition\n",
        "\n",
        "print('a - b =',a-b) #substraction\n",
        "\n",
        "print('a * b =',a*b) #multiplication\n",
        "\n",
        "print('a / b =',a/b) #division\n",
        "\n",
        "print('a // b =',a//b) #Floor division\n",
        "\n",
        "print('a ** b =',a**b) #Exponentiation"
      ]
    },
    {
      "cell_type": "markdown",
      "source": [
        "**Comparison Operators**"
      ],
      "metadata": {
        "id": "6Vnk2OAyJvQ5"
      }
    },
    {
      "cell_type": "code",
      "source": [
        "a = 15\n",
        "b = 10\n",
        "\n",
        "print('a > b is',a>b) #Greater than\n",
        "\n",
        "print('a < b is',a<b) #Less than\n",
        "\n",
        "print('a == b is',a==b) #Equal\n",
        "\n",
        "print('a != b is',a!=b) #Not equal\n",
        "\n",
        "print('a >= b is',a>=b) #Greater than or equal to\n",
        "\n",
        "print('a <= b is',a<=b) #Less than or equal to"
      ],
      "metadata": {
        "colab": {
          "base_uri": "https://localhost:8080/"
        },
        "id": "ZvoZwhVtJb_j",
        "outputId": "0c001091-c82a-473b-dc1b-230a977e6953"
      },
      "execution_count": null,
      "outputs": [
        {
          "output_type": "stream",
          "name": "stdout",
          "text": [
            "a > b is True\n",
            "a < b is False\n",
            "a == b is False\n",
            "a != b is True\n",
            "a >= b is True\n",
            "a <= b is False\n"
          ]
        }
      ]
    },
    {
      "cell_type": "markdown",
      "source": [
        "\n",
        "**Logical Operators**"
      ],
      "metadata": {
        "id": "CXs0LvLueixB"
      }
    },
    {
      "cell_type": "code",
      "source": [
        "x = 5\n",
        "\n",
        "print('x is ',x > 10 and x < 10)    #and operator\n",
        "\n",
        "print('x is',x > 10 or x < 10)    #or operator\n",
        "\n",
        "print('not x is',not (x > 10 and x < 10))   #not operator"
      ],
      "metadata": {
        "colab": {
          "base_uri": "https://localhost:8080/"
        },
        "id": "BsFAkterbSfA",
        "outputId": "5a31859c-3d05-4089-cfe6-ac0bd219b772"
      },
      "execution_count": null,
      "outputs": [
        {
          "output_type": "stream",
          "name": "stdout",
          "text": [
            "x is  False\n",
            "x is True\n",
            "not x is True\n"
          ]
        }
      ]
    },
    {
      "cell_type": "markdown",
      "source": [
        "**shift operator**"
      ],
      "metadata": {
        "id": "icwHwFRvEPaq"
      }
    },
    {
      "cell_type": "code",
      "source": [
        "# Python program to show shift operators\n",
        "\n",
        "x = 5\n",
        "y = -5\n",
        "\n",
        "# print bitwise right shift operator\n",
        "print(\"x >> 1 =\", x >> 1)\n",
        "print(\"y >> 1 =\", y >> 1)\n",
        "\n",
        "x = 5\n",
        "y = -10\n",
        "\n",
        "# print bitwise left shift operator\n",
        "print(\"x << 1 =\", x << 1)\n",
        "print(\"y << 1 =\", y << 1)"
      ],
      "metadata": {
        "colab": {
          "base_uri": "https://localhost:8080/"
        },
        "id": "6GbCFn_T-UJ1",
        "outputId": "e8e65657-5793-4a96-a9dd-c39d445f1365"
      },
      "execution_count": 1,
      "outputs": [
        {
          "output_type": "stream",
          "name": "stdout",
          "text": [
            "x >> 1 = 2\n",
            "y >> 1 = -3\n",
            "x << 1 = 10\n",
            "y << 1 = -20\n"
          ]
        }
      ]
    },
    {
      "cell_type": "markdown",
      "source": [
        "**Identity operators in Python**"
      ],
      "metadata": {
        "id": "_d95xxlW-_tx"
      }
    },
    {
      "cell_type": "code",
      "source": [
        "p1 = 10\n",
        "q1 = 10\n",
        "p2 = 'Celebal'\n",
        "q2 = 'Celebal'\n",
        "p3 = [4,5,6]\n",
        "q3 = [4,5,6]\n",
        "\n",
        "print(p1 is not q1)\n",
        "\n",
        "print(p2 is q2)\n",
        "\n",
        "print(p3 is not q3)"
      ],
      "metadata": {
        "colab": {
          "base_uri": "https://localhost:8080/"
        },
        "id": "yug8J-OK_CRf",
        "outputId": "071e26b9-a08a-4d99-d117-bd72d43c489f"
      },
      "execution_count": 12,
      "outputs": [
        {
          "output_type": "stream",
          "name": "stdout",
          "text": [
            "False\n",
            "True\n",
            "True\n"
          ]
        }
      ]
    },
    {
      "cell_type": "markdown",
      "source": [
        "**Membership operators**"
      ],
      "metadata": {
        "id": "MuyiIFfOBagP"
      }
    },
    {
      "cell_type": "code",
      "source": [
        "x = 'Good Morning'\n",
        "y = {1:'a',2:'b'}\n",
        "\n",
        "print('M' in x)\n",
        "\n",
        "print('Good' not in x)\n",
        "\n",
        "print(1 in y)\n",
        "\n",
        "print('a' in y)"
      ],
      "metadata": {
        "colab": {
          "base_uri": "https://localhost:8080/"
        },
        "id": "wQwPkgBHAw73",
        "outputId": "944e2738-f5c3-42d6-e14a-3dd2c724e11b"
      },
      "execution_count": 15,
      "outputs": [
        {
          "output_type": "stream",
          "name": "stdout",
          "text": [
            "True\n",
            "False\n",
            "True\n",
            "False\n"
          ]
        }
      ]
    },
    {
      "cell_type": "markdown",
      "source": [
        "**for loop**"
      ],
      "metadata": {
        "id": "WxwQrfxIDAVV"
      }
    },
    {
      "cell_type": "code",
      "source": [
        "fruits = [\"apple\", \"banana\", \"cherry\"]\n",
        "for x in fruits:\n",
        "  print(x)"
      ],
      "metadata": {
        "colab": {
          "base_uri": "https://localhost:8080/"
        },
        "id": "N9-8bHJkDCC4",
        "outputId": "b2279953-5d0a-492c-a09a-eaa6d93b0385"
      },
      "execution_count": 16,
      "outputs": [
        {
          "output_type": "stream",
          "name": "stdout",
          "text": [
            "apple\n",
            "banana\n",
            "cherry\n"
          ]
        }
      ]
    },
    {
      "cell_type": "markdown",
      "source": [
        "**range**"
      ],
      "metadata": {
        "id": "NU5r3DBQDXAl"
      }
    },
    {
      "cell_type": "code",
      "source": [
        "print(range(15))\n",
        "\n",
        "print(list(range(5)))\n",
        "\n",
        "print(list(range(1, 7)))\n",
        "\n",
        "print(list(range(2, 10, 3)))"
      ],
      "metadata": {
        "colab": {
          "base_uri": "https://localhost:8080/"
        },
        "id": "jZT_SdX0DKuL",
        "outputId": "00184c60-b67b-4169-ce18-7b7d33878cd4"
      },
      "execution_count": 18,
      "outputs": [
        {
          "output_type": "stream",
          "name": "stdout",
          "text": [
            "range(0, 15)\n",
            "[0, 1, 2, 3, 4]\n",
            "[1, 2, 3, 4, 5, 6]\n",
            "[2, 5, 8]\n"
          ]
        }
      ]
    },
    {
      "cell_type": "markdown",
      "source": [
        "**while loop**"
      ],
      "metadata": {
        "id": "BANz3uZfDyH9"
      }
    },
    {
      "cell_type": "code",
      "source": [
        "# Python program to illustrate while loop\n",
        "count = 0\n",
        "while (count < 2):\n",
        "    count = count + 1\n",
        "    print(\"Hello Everyone\")"
      ],
      "metadata": {
        "colab": {
          "base_uri": "https://localhost:8080/"
        },
        "id": "QWYkODZqD0yw",
        "outputId": "b9015590-2133-4299-da57-33e769bafaea"
      },
      "execution_count": 19,
      "outputs": [
        {
          "output_type": "stream",
          "name": "stdout",
          "text": [
            "Hello Everyone\n",
            "Hello Everyone\n"
          ]
        }
      ]
    }
  ]
}